import pandas as pd
from sklearn.metrics import mean_squared_error, mean_absolute_error, r2_score
from scipy.stats import pearsonr
from skimage.metrics import structural_similarity as ssim

# Загрузка сигналов ЭКГ
classic_ecg = pd.read_csv('classic_ecg.csv')
opencv_ecg = pd.read_csv('opencv_ecg.csv')
annotated_ecg = pd.read_csv('annotated_ecg.csv')

# Извлечение сигналов ЭКГ
classic_signal = classic_ecg['ECG Signal'].values
opencv_signal = opencv_ecg['ECG Signal'].values
annotated_signal = annotated_ecg['ECG Signal'].values

# Вычисление метрик для сравнения classic_signal с annotated_signal
mse_classic = mean_squared_error(annotated_signal, classic_signal)
pearson_corr_classic, _ = pearsonr(annotated_signal, classic_signal)
mae_classic = mean_absolute_error(annotated_signal, classic_signal)
r2_classic = r2_score(annotated_signal, classic_signal)
ssim_score_classic = ssim(annotated_signal, classic_signal)
relative_error_classic = (abs(annotated_signal - classic_signal) / abs(annotated_signal)).mean() * 100

# Вычисление метрик для сравнения opencv_signal с annotated_signal
mse_opencv = mean_squared_error(annotated_signal, opencv_signal)
pearson_corr_opencv, _ = pearsonr(annotated_signal, opencv_signal)
mae_opencv = mean_absolute_error(annotated_signal, opencv_signal)
r2_opencv = r2_score(annotated_signal, opencv_signal)
ssim_score_opencv = ssim(annotated_signal, opencv_signal)
relative_error_opencv = (abs(annotated_signal - opencv_signal) / abs(annotated_signal)).mean() * 100

print("Classic Signal vs Annotated Signal:")
print("Среднеквадратичная ошибка (MSE):", mse_classic)
print("Коэффициент корреляции Пирсона:", pearson_corr_classic)
print("Метрика средней абсолютной ошибки (MAE):", mae_classic)
print("Коэффициент детерминации (R-квадрат):", r2_classic)
print("Структурное сходство (SSIM):", ssim_score_classic)
print("Относительная ошибка (процентное отклонение):", relative_error_classic)

print("Среднеквадратичная ошибка (MSE):", mse_opencv)
print("Коэффициент корреляции Пирсона:", pearson_corr_opencv)
print("Метрика средней абсолютной ошибки (MAE):", mae_opencv)
print("Коэффициент детерминации (R-квадрат):", r2_opencv)
print("Структурное сходство (SSIM):", ssim_score_opencv)
print("Относительная ошибка (процентное отклонение):", relative_error_opencv)
