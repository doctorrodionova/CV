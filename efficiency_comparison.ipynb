{
  "nbformat": 4,
  "nbformat_minor": 0,
  "metadata": {
    "colab": {
      "provenance": []
    },
    "kernelspec": {
      "name": "python3",
      "display_name": "Python 3"
    },
    "language_info": {
      "name": "python"
    }
  },
  "cells": [
    {
      "cell_type": "code",
      "execution_count": null,
      "metadata": {
        "id": "iNtlob7I-OVU"
      },
      "outputs": [],
      "source": [
        "import pandas as pd\n",
        "from sklearn.metrics import mean_squared_error, mean_absolute_error, r2_score\n",
        "from scipy.stats import pearsonr\n",
        "from skimage.metrics import structural_similarity as ssim\n",
        "\n",
        "# Загрузка сигналов ЭКГ из файлов CSV\n",
        "classic_ecg = pd.read_csv('classic_ecg.csv')\n",
        "opencv_ecg = pd.read_csv('opencv_ecg.csv')\n",
        "\n",
        "# Извлечение сигналов ЭКГ\n",
        "classic_signal = classic_ecg['ECG Signal'].values\n",
        "opencv_signal = opencv_ecg['ECG Signal'].values\n",
        "\n",
        "# Вычисление среднеквадратичной ошибки (MSE)\n",
        "mse = mean_squared_error(classic_signal, opencv_signal)\n",
        "\n",
        "# Вычисление коэффициента корреляции Пирсона\n",
        "pearson_corr, _ = pearsonr(classic_signal, opencv_signal)\n",
        "\n",
        "# Вычисление метрики средней абсолютной ошибки (MAE)\n",
        "mae = mean_absolute_error(classic_signal, opencv_signal)\n",
        "\n",
        "# Вычисление коэффициента детерминации (R-квадрат)\n",
        "r2 = r2_score(classic_signal, opencv_signal)\n",
        "\n",
        "# Вычисление структурного сходства (SSIM)\n",
        "ssim_score = ssim(classic_signal, opencv_signal)\n",
        "\n",
        "# Вычисление относительной ошибки (процентного отклонения)\n",
        "relative_error = (abs(classic_signal - opencv_signal) / abs(classic_signal)).mean() * 100\n",
        "\n",
        "# Вывод результатов\n",
        "print(\"Среднеквадратичная ошибка (MSE):\", mse)\n",
        "print(\"Коэффициент корреляции Пирсона:\", pearson_corr)\n",
        "print(\"Метрика средней абсолютной ошибки (MAE):\", mae)\n",
        "print(\"Коэффициент детерминации (R-квадрат):\", r2)\n",
        "print(\"Структурное сходство (SSIM):\", ssim_score)\n",
        "print(\"Относительная ошибка (процентное отклонение):\", relative_error)"
      ]
    }
  ]
}